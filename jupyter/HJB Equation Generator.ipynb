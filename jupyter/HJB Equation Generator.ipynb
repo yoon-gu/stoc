{
 "cells": [
  {
   "cell_type": "code",
   "execution_count": 114,
   "metadata": {
    "collapsed": true
   },
   "outputs": [],
   "source": [
    "from sympy import *\n",
    "from sympy import abc\n",
    "from IPython.display import display, Math, Latex\n",
    "from sympy.interactive import printing\n",
    "printing.init_printing(use_latex=True)"
   ]
  },
  {
   "cell_type": "markdown",
   "metadata": {},
   "source": [
    "## Optimal Control Problem\n",
    "Minimize $$\\int_0^Tf(t,x,u)~dt$$ subject to\n",
    "$$\n",
    "\\begin{cases}\n",
    "x'(t) = b(t,x,u)\\\\\n",
    "x(0) = x_0\n",
    "\\end{cases}\n",
    "$$"
   ]
  },
  {
   "cell_type": "code",
   "execution_count": 121,
   "metadata": {
    "collapsed": true
   },
   "outputs": [],
   "source": [
    "t, x, u= symbols('t x u')\n",
    "Vt, Vx = symbols('V_t V_x')\n",
    "f = x + 0.5 * u**2\n",
    "b = x + u"
   ]
  },
  {
   "cell_type": "markdown",
   "metadata": {},
   "source": [
    "## Hamilton-Jacobi-Bellman Equation"
   ]
  },
  {
   "cell_type": "code",
   "execution_count": 122,
   "metadata": {
    "collapsed": false
   },
   "outputs": [
    {
     "data": {
      "text/latex": [
       "$$\\frac{\\partial V}{\\partial t} + \\min_u \\left[u^{2}+\\frac{\\partial V}{\\partial x}\\left(u\\right)\\right] = 0$$"
      ],
      "text/plain": [
       "<IPython.core.display.Math object>"
      ]
     },
     "metadata": {},
     "output_type": "display_data"
    },
    {
     "data": {
      "text/latex": [
       "$$V(T,x)=0$$"
      ],
      "text/plain": [
       "<IPython.core.display.Math object>"
      ]
     },
     "metadata": {},
     "output_type": "display_data"
    }
   ],
   "source": [
    "hjbeq = r'\\frac{\\partial V}{\\partial t} + \\min_u \\left[' + latex(f) + r'+\\frac{\\partial V}{\\partial x}\\left(' + latex(b)+ r'\\right)\\right] = 0'\n",
    "display(Math(hjbeq))\n",
    "\n",
    "hjbbd = r'V(T,x)=0'\n",
    "display(Math(hjbbd))"
   ]
  },
  {
   "cell_type": "markdown",
   "metadata": {},
   "source": [
    "## Successive Approximation"
   ]
  },
  {
   "cell_type": "code",
   "execution_count": 123,
   "metadata": {
    "collapsed": false
   },
   "outputs": [
    {
     "data": {
      "text/latex": [
       "$$\\frac{\\partial V_k}{\\partial t} + u_k^{2}+\\frac{\\partial V_k}{\\partial x} \\left(u_k\\right)= 0$$"
      ],
      "text/plain": [
       "<IPython.core.display.Math object>"
      ]
     },
     "metadata": {},
     "output_type": "display_data"
    },
    {
     "data": {
      "text/latex": [
       "$$V_k(T,x)=0$$"
      ],
      "text/plain": [
       "<IPython.core.display.Math object>"
      ]
     },
     "metadata": {},
     "output_type": "display_data"
    }
   ],
   "source": [
    "sahjbeq = r'\\frac{\\partial V_k}{\\partial t} + ' + latex(f) + r'+\\frac{\\partial V_k}{\\partial x} \\left(' + latex(b) + r'\\right)= 0'\n",
    "display(Math(sahjbeq.replace('u', 'u_k')))\n",
    "\n",
    "sahjbbd = r'V_k(T,x)=0'\n",
    "display(Math(sahjbbd))"
   ]
  },
  {
   "cell_type": "code",
   "execution_count": 124,
   "metadata": {
    "collapsed": false
   },
   "outputs": [
    {
     "data": {
      "text/latex": [
       "$$u_{k+1} = \\arg\\min_{u_k}\\left[u^{2}+\\frac{\\partial V_k}{\\partial x} \\left(u\\right)\\right]$$"
      ],
      "text/plain": [
       "<IPython.core.display.Math object>"
      ]
     },
     "metadata": {},
     "output_type": "display_data"
    }
   ],
   "source": [
    "update = r'u_{k+1} = \\arg\\min_{u_k}\\left[' + latex(f) + r'+\\frac{\\partial V_k}{\\partial x} \\left(' + latex(b) + r'\\right)\\right]'\n",
    "display(Math(update))"
   ]
  },
  {
   "cell_type": "code",
   "execution_count": null,
   "metadata": {
    "collapsed": true
   },
   "outputs": [],
   "source": []
  }
 ],
 "metadata": {
  "kernelspec": {
   "display_name": "Python 2",
   "language": "python",
   "name": "python2"
  },
  "language_info": {
   "codemirror_mode": {
    "name": "ipython",
    "version": 2
   },
   "file_extension": ".py",
   "mimetype": "text/x-python",
   "name": "python",
   "nbconvert_exporter": "python",
   "pygments_lexer": "ipython2",
   "version": "2.7.10"
  }
 },
 "nbformat": 4,
 "nbformat_minor": 0
}
